{
 "cells": [
  {
   "cell_type": "code",
   "execution_count": 56,
   "metadata": {},
   "outputs": [],
   "source": [
    "import tensorflow as tf\n",
    "from tensorflow import keras\n",
    "\n",
    "import numpy as np\n",
    "import pandas as pd"
   ]
  },
  {
   "cell_type": "code",
   "execution_count": 62,
   "metadata": {},
   "outputs": [],
   "source": [
    "df_corpus = pd.read_csv('moral-data.csv', sep=';')\n",
    "df_corpus = df_corpus.drop(['deontic_modality', 'type'], axis=1)\n",
    "df_corpus.rename(columns={'general_rule': 'label'}, inplace=True)\n",
    "df_corpus['text'].dropna(inplace=True)\n",
    "df_corpus['text'] = [entry.lower() for entry in df_corpus['text']]"
   ]
  },
  {
   "cell_type": "code",
   "execution_count": 66,
   "metadata": {},
   "outputs": [
    {
     "name": "stdout",
     "output_type": "stream",
     "text": [
      "0     the first option that derek could choose is to...\n",
      "1                                       give his kidney\n",
      "2                                         let george go\n",
      "4                                                  kill\n",
      "6                      she can return the ring to jesse\n",
      "8                         hauke can give back the ring.\n",
      "9                                       return the ring\n",
      "10                         julio was asked to kill maxi\n",
      "12                             refuse to accept the job\n",
      "13    peter wants to do a plagiarism check of his st...\n",
      "14           he can correct homework by hand, as before\n",
      "15                            andrea can punish the cat\n",
      "17                                       keep the purse\n",
      "18                                     return the purse\n",
      "19                                                 kill\n",
      "22                                        keep the ring\n",
      "23                                      return the ring\n",
      "26                                  refuse to kill maxi\n",
      "27                                              killing\n",
      "28                               refuse to kill the dog\n",
      "29                                     i keep the money\n",
      "30                                       keep the purse\n",
      "31    the alternativ option is to return the purse t...\n",
      "33                                         not killing!\n",
      "34                                             kill his\n",
      "35                                                 kill\n",
      "39                                              killing\n",
      "40                                                lying\n",
      "41                                             stealing\n",
      "42                                      refuse to steal\n",
      "43                                      refuse to steal\n",
      "45                                      refuse to steal\n",
      "46                                             stealing\n",
      "47    a morally valid action for anton would be to t...\n",
      "48    anton could also see whether there's anything ...\n",
      "49                manfred corrects the homework by hand\n",
      "50    manfred can use a software for checking plagia...\n",
      "51                                    we can save jones\n",
      "52                              we can let jones suffer\n",
      "53                                    he can save jones\n",
      "54                          nicki can make jones suffer\n",
      "55                        simon can give away his lunch\n",
      "57        peter can use a software to detect plagiarism\n",
      "58                 peter can correct homework as before\n",
      "61                         dominique can talk to sascha\n",
      "62                  quinn can save \"nele\" from drowning\n",
      "63                                          tell george\n",
      "64                                      give his kidney\n",
      "65                                      give his kidney\n",
      "68                             he can lie to his mother\n",
      "Name: text, dtype: object\n"
     ]
    }
   ],
   "source": [
    "msk = np.random.rand(len(df_corpus)) < 0.8\n",
    "train_data = df_corpus[msk]\n",
    "print(train_data)"
   ]
  },
  {
   "cell_type": "code",
   "execution_count": null,
   "metadata": {},
   "outputs": [],
   "source": []
  }
 ],
 "metadata": {
  "kernelspec": {
   "display_name": "Python 3",
   "language": "python",
   "name": "python3"
  },
  "language_info": {
   "codemirror_mode": {
    "name": "ipython",
    "version": 3
   },
   "file_extension": ".py",
   "mimetype": "text/x-python",
   "name": "python",
   "nbconvert_exporter": "python",
   "pygments_lexer": "ipython3",
   "version": "3.7.3"
  }
 },
 "nbformat": 4,
 "nbformat_minor": 2
}
